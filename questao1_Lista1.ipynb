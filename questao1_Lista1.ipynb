{
 "cells": [
  {
   "cell_type": "markdown",
   "metadata": {},
   "source": [
    "# Algoritmo IMplementado de Nave Bayes"
   ]
  },
  {
   "cell_type": "code",
   "execution_count": 2,
   "metadata": {},
   "outputs": [],
   "source": [
    "#Importing Libs\n",
    "import numpy as np\n",
    "import pandas as pnd"
   ]
  },
  {
   "cell_type": "code",
   "execution_count": 3,
   "metadata": {},
   "outputs": [],
   "source": [
    "#Colocando probabilidades\n",
    "Pter_casa_propria = 4/11\n",
    "PNter_casa_propria = 7/11\n",
    "Psolteiro = 4/11\n",
    "Pcasado = 4/11\n",
    "Pdivorciado = 3/11\n",
    "Ptem_carro = 6/11\n",
    "PNtem_carro = 5/11\n",
    "Prendimento_alto = 3/11\n",
    "Prendimento_medio = 5/11\n",
    "Prendimento_baixo = 3/11\n",
    "Pbom_pagador = 4/11\n",
    "pmau_pagador = 7/11\n",
    "\n"
   ]
  },
  {
   "cell_type": "code",
   "execution_count": 38,
   "metadata": {},
   "outputs": [],
   "source": [
    "# Probabilidades de ser um bom pagador\n",
    "casa_pagante = 1/4\n",
    "nao_casa_pagante = 3/4\n",
    "\n",
    "solteiro_pagante = 2/4\n",
    "casado_pagante = 0\n",
    "divorciado_pagante = 2/4\n",
    "\n",
    "carro_pagante = 2/4\n",
    "nao_carro_pagante = 2/4\n",
    "\n",
    "ralto_pagante = 1/4\n",
    "rmedio_pagante = 3/4\n",
    "rbaixo_pagante = 0"
   ]
  },
  {
   "cell_type": "code",
   "execution_count": 35,
   "metadata": {},
   "outputs": [],
   "source": [
    "# Probabilidades de ser um mau pagador\n",
    "casa_nao_pagante = 3/7\n",
    "nao_casa_não_pagante = 4/7\n",
    "\n",
    "solteiro_nao_pagante = 2/7\n",
    "casado_nao_pagante = 3/7\n",
    "divorciado_nao_pagante = 1/7\n",
    "\n",
    "carro_nao_pagante = 3/7\n",
    "nao_carro_nao_pagante = 3/7\n",
    "\n",
    "ralto_nao_pagante = 2/7\n",
    "rmedio_nao_pagante = 2/7\n",
    "rbaixo_nao_pagante = 3/7"
   ]
  },
  {
   "cell_type": "code",
   "execution_count": 39,
   "metadata": {},
   "outputs": [
    {
     "name": "stdout",
     "output_type": "stream",
     "text": [
      "Probabilidade de ele ser um bom pagante é:  0.6602182539682541\n",
      "Probabilidade de ele não ser um bom pagante é:  0.24637882363829886\n",
      "O individuo é um bom pagante\n"
     ]
    }
   ],
   "source": [
    "#Estudar o individuo\n",
    "individuo12_pagante = nao_casa_pagante * divorciado_pagante * carro_pagante * ralto_pagante * Pbom_pagador / (PNter_casa_propria * Pdivorciado * Ptem_carro * Prendimento_alto)\n",
    "individuo12_nao_pagante = nao_casa_não_pagante * divorciado_nao_pagante * carro_nao_pagante * ralto_nao_pagante * pmau_pagador/ (PNter_casa_propria * Pdivorciado * Ptem_carro * Prendimento_alto)\n",
    "\n",
    "print(\"Probabilidade de ele ser um bom pagante é: \" , individuo12_pagante)\n",
    "print(\"Probabilidade de ele não ser um bom pagante é: \" , individuo12_nao_pagante)\n",
    "\n",
    "if individuo12_pagante >= individuo12_nao_pagante :\n",
    "  print(\"O individuo é um bom pagante\")\n",
    "else:\n",
    "  print(\"O individuo é um mal pagante\")"
   ]
  },
  {
   "cell_type": "code",
   "execution_count": 40,
   "metadata": {},
   "outputs": [
    {
     "name": "stdout",
     "output_type": "stream",
     "text": [
      "Probabilidade de ele ser um bom pagante é:  0.35651785714285716\n",
      "Probabilidade de ele não ser um bom pagante é:  0.19956684714702205\n",
      "O individuo é um bom pagante\n"
     ]
    }
   ],
   "source": [
    "#Estudar o individuo\n",
    "individuo13_pagante = casa_pagante * solteiro_pagante * nao_carro_pagante * rmedio_pagante * Pbom_pagador / (PNter_casa_propria * Psolteiro * PNtem_carro * Prendimento_medio)\n",
    "individuo13_nao_pagante = casa_nao_pagante * solteiro_nao_pagante * nao_carro_nao_pagante * rmedio_nao_pagante * pmau_pagador/ (PNter_casa_propria * Psolteiro * PNtem_carro * Prendimento_medio)\n",
    "\n",
    "print(\"Probabilidade de ele ser um bom pagante é: \" , individuo13_pagante)\n",
    "print(\"Probabilidade de ele não ser um bom pagante é: \" , individuo13_nao_pagante)\n",
    "\n",
    "if individuo13_pagante >= individuo13_nao_pagante :\n",
    "  print(\"O individuo é um bom pagante\")\n",
    "else:\n",
    "  print(\"O individuo é um mal pagante\")"
   ]
  }
 ],
 "metadata": {
  "kernelspec": {
   "display_name": "Python 3.10.1 ('venv': venv)",
   "language": "python",
   "name": "python3"
  },
  "language_info": {
   "codemirror_mode": {
    "name": "ipython",
    "version": 3
   },
   "file_extension": ".py",
   "mimetype": "text/x-python",
   "name": "python",
   "nbconvert_exporter": "python",
   "pygments_lexer": "ipython3",
   "version": "3.10.1"
  },
  "orig_nbformat": 4,
  "vscode": {
   "interpreter": {
    "hash": "f995094313285ca45e02641952721eb82d851a2ebba119a240e7e1eae8de5dae"
   }
  }
 },
 "nbformat": 4,
 "nbformat_minor": 2
}
